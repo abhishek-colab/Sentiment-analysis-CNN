{
  "nbformat": 4,
  "nbformat_minor": 0,
  "metadata": {
    "colab": {
      "name": "Project_6th_sem.ipynb",
      "provenance": [],
      "collapsed_sections": [],
      "machine_shape": "hm"
    },
    "kernelspec": {
      "name": "python3",
      "display_name": "Python 3"
    },
    "accelerator": "GPU"
  },
  "cells": [
    {
      "cell_type": "code",
      "metadata": {
        "id": "Qu7JRDjVbTns",
        "colab_type": "code",
        "colab": {
          "base_uri": "https://localhost:8080/",
          "height": 122
        },
        "outputId": "9807c1ad-e0de-4a4d-df7b-7ea0be2566e2"
      },
      "source": [
        "from google.colab import drive\n",
        "drive.mount('/content/drive')"
      ],
      "execution_count": null,
      "outputs": [
        {
          "output_type": "stream",
          "text": [
            "Go to this URL in a browser: https://accounts.google.com/o/oauth2/auth?client_id=947318989803-6bn6qk8qdgf4n4g3pfee6491hc0brc4i.apps.googleusercontent.com&redirect_uri=urn%3aietf%3awg%3aoauth%3a2.0%3aoob&response_type=code&scope=email%20https%3a%2f%2fwww.googleapis.com%2fauth%2fdocs.test%20https%3a%2f%2fwww.googleapis.com%2fauth%2fdrive%20https%3a%2f%2fwww.googleapis.com%2fauth%2fdrive.photos.readonly%20https%3a%2f%2fwww.googleapis.com%2fauth%2fpeopleapi.readonly\n",
            "\n",
            "Enter your authorization code:\n",
            "··········\n",
            "Mounted at /content/drive\n"
          ],
          "name": "stdout"
        }
      ]
    },
    {
      "cell_type": "code",
      "metadata": {
        "id": "bATRKBSUbzmn",
        "colab_type": "code",
        "colab": {
          "base_uri": "https://localhost:8080/",
          "height": 34
        },
        "outputId": "3b16270e-5014-4319-bd9a-ba0eaa9f6620"
      },
      "source": [
        "print (\"Downloading my file\")\n",
        "f=open('/content/drive/My Drive/sentiment analysis/train.ft.txt','r')\n",
        "dt=f.read()\n",
        "f.close()"
      ],
      "execution_count": null,
      "outputs": [
        {
          "output_type": "stream",
          "text": [
            "Downloading my file\n"
          ],
          "name": "stdout"
        }
      ]
    },
    {
      "cell_type": "code",
      "metadata": {
        "id": "JOUZmvNQBipZ",
        "colab_type": "code",
        "colab": {
          "base_uri": "https://localhost:8080/",
          "height": 34
        },
        "outputId": "a29e561b-01bf-456a-8a27-b13f85671180"
      },
      "source": [
        "#We can see there are total of 3600001 reviews in this dataset\n",
        "len(dt.split('\\n'))"
      ],
      "execution_count": null,
      "outputs": [
        {
          "output_type": "execute_result",
          "data": {
            "text/plain": [
              "3600001"
            ]
          },
          "metadata": {
            "tags": []
          },
          "execution_count": 3
        }
      ]
    },
    {
      "cell_type": "code",
      "metadata": {
        "id": "R4t8YeEifUqU",
        "colab_type": "code",
        "colab": {}
      },
      "source": [
        "import re\n",
        "dt=re.sub(\"__label__1 \",'0bhaiyu',dt)\n",
        "dt=re.sub(\"__label__2 \",'1bhaiyu',dt)\n",
        "dt=re.sub(\"\\*\",\" \",dt)\n",
        "dt=re.sub('\\\"',\" \",dt)\n",
        "\n"
      ],
      "execution_count": null,
      "outputs": []
    },
    {
      "cell_type": "code",
      "metadata": {
        "id": "GPU5gXKhIbTu",
        "colab_type": "code",
        "colab": {
          "base_uri": "https://localhost:8080/",
          "height": 68
        },
        "outputId": "50a4406b-ffd6-4871-db85-bba95abad51c"
      },
      "source": [
        "import nltk\n",
        "nltk.download('stopwords')\n",
        "\n"
      ],
      "execution_count": null,
      "outputs": [
        {
          "output_type": "stream",
          "text": [
            "[nltk_data] Downloading package stopwords to /root/nltk_data...\n",
            "[nltk_data]   Unzipping corpora/stopwords.zip.\n"
          ],
          "name": "stdout"
        },
        {
          "output_type": "execute_result",
          "data": {
            "text/plain": [
              "True"
            ]
          },
          "metadata": {
            "tags": []
          },
          "execution_count": 5
        }
      ]
    },
    {
      "cell_type": "code",
      "metadata": {
        "id": "uZQvYh3TqHf0",
        "colab_type": "code",
        "colab": {
          "base_uri": "https://localhost:8080/",
          "height": 54
        },
        "outputId": "c3e49135-44c1-44f6-9000-527ac7e3bc14"
      },
      "source": [
        "from nltk.corpus import stopwords\n",
        "print(stopwords.words('english'))\n",
        "stop_words = stopwords.words('english')"
      ],
      "execution_count": null,
      "outputs": [
        {
          "output_type": "stream",
          "text": [
            "['i', 'me', 'my', 'myself', 'we', 'our', 'ours', 'ourselves', 'you', \"you're\", \"you've\", \"you'll\", \"you'd\", 'your', 'yours', 'yourself', 'yourselves', 'he', 'him', 'his', 'himself', 'she', \"she's\", 'her', 'hers', 'herself', 'it', \"it's\", 'its', 'itself', 'they', 'them', 'their', 'theirs', 'themselves', 'what', 'which', 'who', 'whom', 'this', 'that', \"that'll\", 'these', 'those', 'am', 'is', 'are', 'was', 'were', 'be', 'been', 'being', 'have', 'has', 'had', 'having', 'do', 'does', 'did', 'doing', 'a', 'an', 'the', 'and', 'but', 'if', 'or', 'because', 'as', 'until', 'while', 'of', 'at', 'by', 'for', 'with', 'about', 'against', 'between', 'into', 'through', 'during', 'before', 'after', 'above', 'below', 'to', 'from', 'up', 'down', 'in', 'out', 'on', 'off', 'over', 'under', 'again', 'further', 'then', 'once', 'here', 'there', 'when', 'where', 'why', 'how', 'all', 'any', 'both', 'each', 'few', 'more', 'most', 'other', 'some', 'such', 'no', 'nor', 'not', 'only', 'own', 'same', 'so', 'than', 'too', 'very', 's', 't', 'can', 'will', 'just', 'don', \"don't\", 'should', \"should've\", 'now', 'd', 'll', 'm', 'o', 're', 've', 'y', 'ain', 'aren', \"aren't\", 'couldn', \"couldn't\", 'didn', \"didn't\", 'doesn', \"doesn't\", 'hadn', \"hadn't\", 'hasn', \"hasn't\", 'haven', \"haven't\", 'isn', \"isn't\", 'ma', 'mightn', \"mightn't\", 'mustn', \"mustn't\", 'needn', \"needn't\", 'shan', \"shan't\", 'shouldn', \"shouldn't\", 'wasn', \"wasn't\", 'weren', \"weren't\", 'won', \"won't\", 'wouldn', \"wouldn't\"]\n"
          ],
          "name": "stdout"
        }
      ]
    },
    {
      "cell_type": "code",
      "metadata": {
        "id": "FFzucVkWnv5F",
        "colab_type": "code",
        "colab": {
          "base_uri": "https://localhost:8080/",
          "height": 71
        },
        "outputId": "9509d430-7c1b-4bac-9e3c-29baf1553d3a"
      },
      "source": [
        "\n",
        "dt=dt.lower()\n",
        "ds=''\n",
        "for i in dt.split(\"\\n\"):\n",
        "  x=' '.join(ch for ch in i.split() if ch not in stop_words if len(ch)>2)\n",
        "  ds+=x\n",
        "  ds+=(\"\\n\")\n",
        "print(ds[:500])"
      ],
      "execution_count": null,
      "outputs": [
        {
          "output_type": "stream",
          "text": [
            "1bhaiyustuning even non-gamer: sound track beautiful! paints senery mind well would recomend even people hate vid. game music! played game chrono cross games ever played best music! backs away crude keyboarding takes fresher step grate guitars soulful orchestras. would impress anyone cares listen! ^_^\n",
            "1bhaiyuthe best soundtrack ever anything.: i'm reading lot reviews saying best 'game soundtrack' figured i'd write review disagree bit. opinino yasunori mitsuda's ultimate masterpiece. music timele\n"
          ],
          "name": "stdout"
        }
      ]
    },
    {
      "cell_type": "code",
      "metadata": {
        "id": "s6HIhvNGfB8g",
        "colab_type": "code",
        "colab": {
          "base_uri": "https://localhost:8080/",
          "height": 71
        },
        "outputId": "866cf52d-f6ee-4948-98e1-adb2dd69f757"
      },
      "source": [
        "del dt\n",
        "import string\n",
        "exclude=string.punctuation\n",
        "ds= ''.join(ch for ch in ds if ch not in exclude)\n",
        "print(ds[:500])"
      ],
      "execution_count": null,
      "outputs": [
        {
          "output_type": "stream",
          "text": [
            "1bhaiyustuning even nongamer sound track beautiful paints senery mind well would recomend even people hate vid game music played game chrono cross games ever played best music backs away crude keyboarding takes fresher step grate guitars soulful orchestras would impress anyone cares listen \n",
            "1bhaiyuthe best soundtrack ever anything im reading lot reviews saying best game soundtrack figured id write review disagree bit opinino yasunori mitsudas ultimate masterpiece music timeless im listening year\n"
          ],
          "name": "stdout"
        }
      ]
    },
    {
      "cell_type": "code",
      "metadata": {
        "id": "rU_xG7XRyC14",
        "colab_type": "code",
        "colab": {
          "base_uri": "https://localhost:8080/",
          "height": 272
        },
        "outputId": "4ad82a34-ec65-4f44-9fe6-2da94f105e7c"
      },
      "source": [
        "import pandas as pd\n",
        "a=open(r\"/content/a.txt\",\"w+\",encoding='utf-8')\n",
        "a.write(ds)\n",
        "a.close()\n",
        "df=pd.read_csv(\"/content/a.txt\",delimiter='bhaiyu',names=['label','sentence'],engine='python', quotechar='\"', error_bad_lines=False)\n",
        "print(df.shape)\n",
        "print(df[df[\"label\"]==0].count())\n",
        "print(df[:10])\n",
        "\n"
      ],
      "execution_count": null,
      "outputs": [
        {
          "output_type": "stream",
          "text": [
            "(3600000, 2)\n",
            "label       1800000\n",
            "sentence    1799999\n",
            "dtype: int64\n",
            "   label                                           sentence\n",
            "0      1  stuning even nongamer sound track beautiful pa...\n",
            "1      1  the best soundtrack ever anything im reading l...\n",
            "2      1  amazing soundtrack favorite music time hands d...\n",
            "3      1  excellent soundtrack truly like soundtrack enj...\n",
            "4      1  remember pull jaw floor hearing it played game...\n",
            "5      1  an absolute masterpiece quite sure actually ta...\n",
            "6      0  buyer beware selfpublished book want know whyr...\n",
            "7      1  glorious story loved whisper wicked saints sto...\n",
            "8      1  a five star book finished reading whisper wick...\n",
            "9      1  whispers wicked saints easy read book made wan...\n"
          ],
          "name": "stdout"
        }
      ]
    },
    {
      "cell_type": "code",
      "metadata": {
        "id": "BDd-nQ2cCkDx",
        "colab_type": "code",
        "colab": {
          "base_uri": "https://localhost:8080/",
          "height": 119
        },
        "outputId": "42b76ba6-b0eb-474d-eeb6-aeca631f0969"
      },
      "source": [
        "print(df.tail())"
      ],
      "execution_count": null,
      "outputs": [
        {
          "output_type": "stream",
          "text": [
            "         label                                           sentence\n",
            "3599995      0  dont it high chair looks great first comes box...\n",
            "3599996      0  looks nice low functionality used highchair ki...\n",
            "3599997      0  compact hard clean small house really wanted t...\n",
            "3599998      0  what saying sure book supposed be really rehas...\n",
            "3599999      1  makes blood run redwhiteandblue agree every am...\n"
          ],
          "name": "stdout"
        }
      ]
    },
    {
      "cell_type": "code",
      "metadata": {
        "id": "ytPH8PeHiwhi",
        "colab_type": "code",
        "colab": {}
      },
      "source": [
        "convert_dict = {'label': int, \n",
        "                'sentence': str\n",
        "               } \n",
        "  \n",
        "df = df.astype(convert_dict)"
      ],
      "execution_count": null,
      "outputs": []
    },
    {
      "cell_type": "code",
      "metadata": {
        "id": "rs--PEyEfsXy",
        "colab_type": "code",
        "colab": {}
      },
      "source": [
        "from sklearn.model_selection import train_test_split\n",
        "sentences=df['sentence'].values\n",
        "y=df['label'].values\n",
        "sentences_train, sentences_test, y_train, y_test = train_test_split(sentences, y, test_size=0.25, random_state=7)\n"
      ],
      "execution_count": null,
      "outputs": []
    },
    {
      "cell_type": "code",
      "metadata": {
        "id": "KCFD3MdSn6HM",
        "colab_type": "code",
        "colab": {
          "base_uri": "https://localhost:8080/",
          "height": 68
        },
        "outputId": "41650e3d-5647-4f56-c7eb-51f51a57df3c"
      },
      "source": [
        "print(sentences_train.shape)\n",
        "print(y_train.shape)\n",
        "print(y_test.shape)"
      ],
      "execution_count": null,
      "outputs": [
        {
          "output_type": "stream",
          "text": [
            "(2700000,)\n",
            "(2700000,)\n",
            "(900000,)\n"
          ],
          "name": "stdout"
        }
      ]
    },
    {
      "cell_type": "code",
      "metadata": {
        "id": "Wp6hDw07hmNO",
        "colab_type": "code",
        "colab": {}
      },
      "source": [
        "#from keras.utils import np_utils\n",
        "#for  i in range(len(y_train)):\n",
        "#  y_train[i] = np_utils.to_categorical(y_train[i], 2)\n",
        "#y_test = np_utils.to_categorical(y_test,2)"
      ],
      "execution_count": null,
      "outputs": []
    },
    {
      "cell_type": "code",
      "metadata": {
        "id": "anB6POy9f7zL",
        "colab_type": "code",
        "colab": {
          "base_uri": "https://localhost:8080/",
          "height": 54
        },
        "outputId": "1ea04e6d-c0e3-42ae-bd46-680d326b9af5"
      },
      "source": [
        "sentences_train_processed=[]\n",
        "for i in sentences_train:\n",
        "  sentences_train_processed.append(str(i).split())\n",
        "print(sentences_train_processed[:5])\n",
        "\n"
      ],
      "execution_count": null,
      "outputs": [
        {
          "output_type": "stream",
          "text": [
            "[['new', 'tool', 'amazing', 'tool', 'replaced', 'screew', 'driver', 'epa', 'think', 'next', 'homelite', 'probably', 'got', 'kind', 'reward', 'this'], ['v', 'expensive', 'feel', 'gr8', 'shower', 'nice', 'aroma', 'smooth', 'textureid', 'wish', 'little', 'cheaperfew', 'variations', 'need', 'introduced', 'soon'], ['good', 'areas', 'leaves', 'necessare', 'steps', 'thought', 'going', 'love', 'book', 'started', 'great', 'tutorials', 'happy', 'lark', 'came', 'importing', 'bargifs', 'assigning', 'individual', 'urls', 'putting', 'label', 'hotspotwhich', 'showed', 'butit', 'leaves', 'instructions', 'label', 'hot', 'spot', 'person', 'cruising', 'web', 'idea', 'link', 'leads', 'to', 'fact', 'may', 'know', 'link', 'since', 'bargif', 'appears', 'blank', 'hold', 'cursor', 'get', 'underlying', 'linktoo', 'much', 'helpful', 'either', 'newcomers', 'intermediate', 'it', 'give', 'html', 'alternative', 'link', 'area', 'link', 'showing', 'label'], ['nasty', 'movie', 'watching', 'croaching', 'tiger', 'hidden', 'dragon', 'told', 'movie', 'would', 'liken', 'richer', 'get', 'past', 'first', 'scenes', 'molestation', 'deconstruction', 'childredn', 'left', 'feeling', 'dirty', 'would', 'advise', 'anyone', 'see', 'movie'], ['dont', 'waste', 'money', 'worst', 'full', 'thinks', 'even', 'snooty', 'think', 'buy', 'another', 'britney', 'again', 'huge', 'disappointment']]\n"
          ],
          "name": "stdout"
        }
      ]
    },
    {
      "cell_type": "code",
      "metadata": {
        "id": "DtuhsSmqwpoN",
        "colab_type": "code",
        "colab": {
          "base_uri": "https://localhost:8080/",
          "height": 54
        },
        "outputId": "bc5853cd-1992-41d7-9ad1-d1e5e6900ab4"
      },
      "source": [
        "#Run the following 2 code blocks just for the first time to generate the embeddings and save the embeddings for later use\n",
        "#Or just download the word embeddings for training your model\n",
        "'''\n",
        "from gensim.models import Word2Vec\n",
        "model_vec_train = Word2Vec(sentences=sentences_train_processed, size=300, window=5, min_count=20, workers=4, sg=0)\n",
        "'''"
      ],
      "execution_count": null,
      "outputs": [
        {
          "output_type": "execute_result",
          "data": {
            "application/vnd.google.colaboratory.intrinsic+json": {
              "type": "string"
            },
            "text/plain": [
              "'\\nfrom gensim.models import Word2Vec\\nmodel_vec_train = Word2Vec(sentences=sentences_train_processed, size=300, window=5, min_count=20, workers=4, sg=0)\\n'"
            ]
          },
          "metadata": {
            "tags": []
          },
          "execution_count": 16
        }
      ]
    },
    {
      "cell_type": "code",
      "metadata": {
        "id": "fHIV_h1JyO6c",
        "colab_type": "code",
        "colab": {
          "base_uri": "https://localhost:8080/",
          "height": 54
        },
        "outputId": "2aab4f32-903f-44b8-c6af-e7fc794b3722"
      },
      "source": [
        "'''\n",
        "words = list(model_vec_train.wv.vocab)\n",
        "print('Vocabulary size: %d' % len(words))\n",
        "filename = 'final_embedding_word2vec.txt'\n",
        "model_vec_train.wv.save_word2vec_format(filename, binary=False)\n",
        "#del model_vec_train\n",
        "'''"
      ],
      "execution_count": null,
      "outputs": [
        {
          "output_type": "execute_result",
          "data": {
            "application/vnd.google.colaboratory.intrinsic+json": {
              "type": "string"
            },
            "text/plain": [
              "\"\\nwords = list(model_vec_train.wv.vocab)\\nprint('Vocabulary size: %d' % len(words))\\nfilename = 'final_embedding_word2vec.txt'\\nmodel_vec_train.wv.save_word2vec_format(filename, binary=False)\\n#del model_vec_train\\n\""
            ]
          },
          "metadata": {
            "tags": []
          },
          "execution_count": 17
        }
      ]
    },
    {
      "cell_type": "code",
      "metadata": {
        "id": "s6Pxm1r7HVHb",
        "colab_type": "code",
        "colab": {}
      },
      "source": [
        "#convert the word embeddings into a list of strings so that it can be processed by keras Tokenizer\n",
        "document_train=[]\n",
        "for i in sentences_train_processed:\n",
        "  token=' '.join(i)\n",
        "  document_train.append(token)"
      ],
      "execution_count": null,
      "outputs": []
    },
    {
      "cell_type": "code",
      "metadata": {
        "id": "aD8PLl1OIIm1",
        "colab_type": "code",
        "colab": {
          "base_uri": "https://localhost:8080/",
          "height": 51
        },
        "outputId": "6e08a199-c110-470f-90e8-6a7a14dac7a9"
      },
      "source": [
        "print(document_train[:1])\n",
        "print(document_train[1:2])"
      ],
      "execution_count": null,
      "outputs": [
        {
          "output_type": "stream",
          "text": [
            "['new tool amazing tool replaced screew driver epa think next homelite probably got kind reward this']\n",
            "['v expensive feel gr8 shower nice aroma smooth textureid wish little cheaperfew variations need introduced soon']\n"
          ],
          "name": "stdout"
        }
      ]
    },
    {
      "cell_type": "code",
      "metadata": {
        "id": "CNTUZuLs2UQX",
        "colab_type": "code",
        "colab": {
          "base_uri": "https://localhost:8080/",
          "height": 54
        },
        "outputId": "391de51d-6956-424e-91fb-3e0438d5bf87"
      },
      "source": [
        "import tensorflow as tf\n",
        "from tensorflow.keras.preprocessing.text import Tokenizer\n",
        "tokenizer=Tokenizer()\n",
        "# fit the tokenizer only on train data\n",
        "tokenizer.fit_on_texts(document_train)\n",
        "encoded_docs = tokenizer.texts_to_sequences(document_train)\n",
        "print(encoded_docs[:2])"
      ],
      "execution_count": null,
      "outputs": [
        {
          "output_type": "stream",
          "text": [
            "[[27, 640, 250, 640, 992, 365743, 2192, 32027, 33, 181, 47005, 206, 41, 278, 7482, 61], [25865, 547, 128, 22122, 1764, 91, 8974, 1219, 565134, 230, 28, 565135, 5743, 84, 2432, 555]]\n"
          ],
          "name": "stdout"
        }
      ]
    },
    {
      "cell_type": "code",
      "metadata": {
        "id": "0njeGWz-K1ni",
        "colab_type": "code",
        "colab": {
          "base_uri": "https://localhost:8080/",
          "height": 34
        },
        "outputId": "cf21de2b-1bef-4a3c-9d42-5d9b5dc6d4a9"
      },
      "source": [
        "print(tokenizer.word_index['bad'])"
      ],
      "execution_count": null,
      "outputs": [
        {
          "output_type": "stream",
          "text": [
            "44\n"
          ],
          "name": "stdout"
        }
      ]
    },
    {
      "cell_type": "code",
      "metadata": {
        "id": "8EJ0BKa6wacH",
        "colab_type": "code",
        "colab": {
          "base_uri": "https://localhost:8080/",
          "height": 34
        },
        "outputId": "2dca0879-128e-4fc6-beef-7a5e035f4fa5"
      },
      "source": [
        "import numpy as np\n",
        "# We will use the max length of a sentence as the length of 99 percentile, just leaving the 1% longest sentences\n",
        "x = [len(s) for s in encoded_docs]\n",
        "\n",
        "median_len = np.percentile(x,99)\n",
        "median_len\n"
      ],
      "execution_count": null,
      "outputs": [
        {
          "output_type": "execute_result",
          "data": {
            "text/plain": [
              "95.0"
            ]
          },
          "metadata": {
            "tags": []
          },
          "execution_count": 22
        }
      ]
    },
    {
      "cell_type": "code",
      "metadata": {
        "id": "MXRh_OfpyKdm",
        "colab_type": "code",
        "colab": {
          "base_uri": "https://localhost:8080/",
          "height": 34
        },
        "outputId": "89425f7d-1904-417c-c318-a776006022f4"
      },
      "source": [
        "print(max(x))"
      ],
      "execution_count": null,
      "outputs": [
        {
          "output_type": "stream",
          "text": [
            "157\n"
          ],
          "name": "stdout"
        }
      ]
    },
    {
      "cell_type": "code",
      "metadata": {
        "id": "-Hp6a__g6iDS",
        "colab_type": "code",
        "colab": {
          "base_uri": "https://localhost:8080/",
          "height": 374
        },
        "outputId": "c35d9e0a-017c-44c1-ff9d-3ab5fa800462"
      },
      "source": [
        "from tensorflow.keras.preprocessing.sequence import pad_sequences\n",
        "\n",
        "X_train = pad_sequences(encoded_docs, maxlen=int(median_len), padding='post')\n",
        "print(X_train.shape)\n",
        "print(X_train[:2])"
      ],
      "execution_count": null,
      "outputs": [
        {
          "output_type": "stream",
          "text": [
            "(2700000, 95)\n",
            "[[    27    640    250    640    992 365743   2192  32027     33    181\n",
            "   47005    206     41    278   7482     61      0      0      0      0\n",
            "       0      0      0      0      0      0      0      0      0      0\n",
            "       0      0      0      0      0      0      0      0      0      0\n",
            "       0      0      0      0      0      0      0      0      0      0\n",
            "       0      0      0      0      0      0      0      0      0      0\n",
            "       0      0      0      0      0      0      0      0      0      0\n",
            "       0      0      0      0      0      0      0      0      0      0\n",
            "       0      0      0      0      0      0      0      0      0      0\n",
            "       0      0      0      0      0]\n",
            " [ 25865    547    128  22122   1764     91   8974   1219 565134    230\n",
            "      28 565135   5743     84   2432    555      0      0      0      0\n",
            "       0      0      0      0      0      0      0      0      0      0\n",
            "       0      0      0      0      0      0      0      0      0      0\n",
            "       0      0      0      0      0      0      0      0      0      0\n",
            "       0      0      0      0      0      0      0      0      0      0\n",
            "       0      0      0      0      0      0      0      0      0      0\n",
            "       0      0      0      0      0      0      0      0      0      0\n",
            "       0      0      0      0      0      0      0      0      0      0\n",
            "       0      0      0      0      0]]\n"
          ],
          "name": "stdout"
        }
      ]
    },
    {
      "cell_type": "code",
      "metadata": {
        "id": "M90Aq2-XMsQh",
        "colab_type": "code",
        "colab": {
          "base_uri": "https://localhost:8080/",
          "height": 374
        },
        "outputId": "66bbbccb-d4d3-419c-d39c-e3bd099675d1"
      },
      "source": [
        "encoded_docs = tokenizer.texts_to_sequences(sentences_test)\n",
        "X_test = pad_sequences(encoded_docs, maxlen=int(median_len), padding='post')\n",
        "print(X_test.shape)\n",
        "print(X_test[:2])"
      ],
      "execution_count": null,
      "outputs": [
        {
          "output_type": "stream",
          "text": [
            "(900000, 95)\n",
            "[[ 31967   1388 111275   3597    217    845    459   1388    245  31967\n",
            "    1422    245      5    784   7424   2623   7416   3630    902      7\n",
            "    1392    245    525  12325    219     87   1407      0      0      0\n",
            "       0      0      0      0      0      0      0      0      0      0\n",
            "       0      0      0      0      0      0      0      0      0      0\n",
            "       0      0      0      0      0      0      0      0      0      0\n",
            "       0      0      0      0      0      0      0      0      0      0\n",
            "       0      0      0      0      0      0      0      0      0      0\n",
            "       0      0      0      0      0      0      0      0      0      0\n",
            "       0      0      0      0      0]\n",
            " [   738     80     10   2566   1229   3163    175    115    234   5897\n",
            "     109    998    131     73      7    451   1736      2    174   1420\n",
            "   20207    119     64    360 248833   1269    127   1772    281    611\n",
            "   15999    786    306     79   1697    288     84   1086    148    752\n",
            "   10316     67     69     69  15999   1744   1380     69     16    450\n",
            "     267    742   3271    404    292   1176  20084   1160  11489     81\n",
            "      16     10   4699  16891  47302  30310    319  26282    238   2727\n",
            "    8241   7070   9747   2756   2014    192    671     69    143   1874\n",
            "     231 234799   1697   1988  15999    175     18     18     16    450\n",
            "    1697      0      0      0      0]]\n"
          ],
          "name": "stdout"
        }
      ]
    },
    {
      "cell_type": "code",
      "metadata": {
        "id": "Gw5401FyQkg2",
        "colab_type": "code",
        "colab": {
          "base_uri": "https://localhost:8080/",
          "height": 51
        },
        "outputId": "c16ced29-fae8-4440-acbd-60e35187380e"
      },
      "source": [
        "print(type(tokenizer.word_index))\n",
        "print(len(tokenizer.word_index)+1)"
      ],
      "execution_count": null,
      "outputs": [
        {
          "output_type": "stream",
          "text": [
            "<class 'dict'>\n",
            "1864537\n"
          ],
          "name": "stdout"
        }
      ]
    },
    {
      "cell_type": "code",
      "metadata": {
        "id": "4jNlXMgS0pVo",
        "colab_type": "code",
        "colab": {}
      },
      "source": [
        "from numpy import asarray,zeros\n",
        "def load_embedding(filename):\n",
        "\t# load embedding into memory\n",
        "\tfile = open(filename,'r')\n",
        "\tlines = file.readlines()[1:] #leave the first line as it just contain the shape of the embedding file\n",
        "\tfile.close()\n",
        "\tembedding = dict()     # create a map of words to vectors\n",
        "\tfor line in lines:\n",
        "\t\tparts = line.split()\n",
        "\t\t# key is string word, value is numpy array for vector\n",
        "\t\tembedding[parts[0]] = asarray(parts[1:], dtype='float32')\n",
        "\treturn embedding\n",
        "def get_weight_matrix(embedding, vocab):\n",
        "\t# total vocabulary size plus 0 for unknown words\n",
        "\tvocab_size = len(vocab) + 1\n",
        "\t# define weight matrix dimensions with all 0\n",
        "\tweight_matrix = zeros((vocab_size, 300))\n",
        "\t# step vocab, store vectors using the Tokenizer's integer mapping\n",
        "\tfor word, i in vocab.items():\n",
        "\t\tvector = embedding.get(word)\n",
        "\t\tif vector is not None:\n",
        "\t\t\tweight_matrix[i] = vector\n",
        "\treturn weight_matrix"
      ],
      "execution_count": null,
      "outputs": []
    },
    {
      "cell_type": "code",
      "metadata": {
        "id": "dtBXj3BCcokX",
        "colab_type": "code",
        "colab": {
          "base_uri": "https://localhost:8080/",
          "height": 1000
        },
        "outputId": "9ca654f6-dd74-42e6-ec8d-86eec8d5950c"
      },
      "source": [
        "from tensorflow.keras.layers import Embedding\n",
        "from numpy import asarray,zeros\n",
        "vocab_size=len(tokenizer.word_index)+1\n",
        "raw_embedding = load_embedding(r'/content/drive/My Drive/sentiment analysis/final_embedding_word2vec.txt')\n",
        "embedding_vectors = get_weight_matrix(raw_embedding, tokenizer.word_index)  \n",
        "print(embedding_vectors.shape)                                                    #EMBEDDING LAYER\n",
        "print(embedding_vectors[1:3])\n",
        "embedding_layer = Embedding(vocab_size, 300,weights=[embedding_vectors] ,input_length=int(median_len), trainable=False)      "
      ],
      "execution_count": null,
      "outputs": [
        {
          "output_type": "stream",
          "text": [
            "(1864537, 300)\n",
            "[[ 2.78162503e+00 -1.23020840e+00 -1.91693282e+00  2.27031255e+00\n",
            "  -6.66806102e-02  1.05085230e+00 -1.12982130e+00 -2.46624851e+00\n",
            "   4.05526549e-01  1.31214571e+00  9.47492778e-01 -1.29186058e+00\n",
            "   1.10378766e+00  1.81520486e+00  1.05795312e+00  2.71973872e+00\n",
            "  -1.83133924e+00 -5.91763973e-01  2.51992419e-03  4.97108459e-01\n",
            "  -2.07112503e+00  2.10744786e+00  4.56704289e-01  1.84271383e+00\n",
            "   8.97395849e-01 -3.31875682e-01 -6.31278992e-01  2.81734705e-01\n",
            "  -1.10634768e+00  6.54566467e-01  2.10952878e+00 -2.23705482e+00\n",
            "   1.54453829e-01  4.49377209e-01 -5.13899803e-01  2.02528763e+00\n",
            "  -1.08952260e+00  3.00711036e-01 -2.64443517e-01  1.42338857e-01\n",
            "   6.75817251e-01 -8.57305169e-01 -2.55608171e-01 -1.15480065e+00\n",
            "  -3.89501303e-01 -1.61234844e+00  2.26973519e-01  2.53405929e+00\n",
            "  -1.47954667e+00 -1.00571787e+00 -7.70273745e-01  6.99877501e-01\n",
            "   3.17098379e-01  1.96418834e+00 -4.41594511e-01 -7.37462997e-01\n",
            "  -1.56944489e+00 -9.06462222e-02  5.36261737e-01  8.22641015e-01\n",
            "   6.60751238e-02  1.86367667e+00  1.46492863e+00  3.08006787e+00\n",
            "  -1.56379950e+00 -1.89982808e+00 -8.80819857e-01 -1.95394177e-02\n",
            "  -2.88515955e-01  1.81072068e+00 -1.93156970e+00 -4.42161739e-01\n",
            "  -1.01093447e+00 -2.01307607e+00 -4.18965630e-02 -5.15003622e-01\n",
            "   6.12191737e-01  2.69034219e+00  1.86019313e+00 -1.74969149e+00\n",
            "  -7.31211245e-01 -1.81409812e+00 -4.42267746e-01 -2.12528527e-01\n",
            "  -6.63257658e-01 -9.46592987e-02 -8.97663906e-02  2.69513447e-02\n",
            "  -9.63613510e-01 -9.94234741e-01  6.13910496e-01  9.28874835e-02\n",
            "   2.85246670e-01  9.09459889e-01  1.19561708e+00 -1.46535778e+00\n",
            "   3.41290236e-01 -1.45406842e-01  1.97071582e-01  3.70060802e-01\n",
            "   6.89728141e-01  3.84531528e-01  1.64254010e-01  4.33853507e-01\n",
            "  -6.00842297e-01  2.73954892e+00  1.46000957e+00  1.55247366e+00\n",
            "   1.55095088e+00  1.14221656e+00  2.36006832e+00 -6.74615264e-01\n",
            "  -2.10186553e+00  9.54954147e-01  1.17296720e+00 -1.43062019e+00\n",
            "   3.74227345e-01 -1.58583999e+00 -1.96105555e-01  2.52750535e-02\n",
            "   1.10563278e+00  4.95509833e-01 -1.92722762e+00 -2.75935054e+00\n",
            "  -1.18725121e+00  2.48228446e-01  4.12088126e-01 -1.32315993e+00\n",
            "  -3.44949692e-01  1.74827361e+00 -7.54687071e-01 -8.60468328e-01\n",
            "   1.27027941e+00 -2.74799013e+00  1.04158316e-02  7.12344944e-01\n",
            "   1.36296475e+00 -1.42906594e+00 -5.40351927e-01  1.68850362e+00\n",
            "  -4.31227125e-02 -8.06690931e-01 -1.87159896e+00  2.17309856e+00\n",
            "   1.73164502e-01 -1.42385554e+00 -7.38772526e-02  9.93006229e-01\n",
            "   2.80069709e-01 -3.65445971e-01 -2.38141727e+00 -2.43466306e+00\n",
            "  -7.91424736e-02  2.36881471e+00  9.42244828e-01 -1.39540291e+00\n",
            "   7.23212242e-01  1.95496523e+00 -6.53877914e-01  1.43945479e+00\n",
            "  -2.08209538e+00  3.29744488e-01  1.07033670e+00 -1.98579222e-01\n",
            "   2.23469257e+00  1.46492469e+00 -8.90474916e-02 -1.42168880e+00\n",
            "   2.58404016e-01 -2.05136001e-01  4.30172831e-01 -1.54256296e+00\n",
            "  -1.77645087e+00  5.46297550e-01 -5.61638355e-01 -1.21362698e+00\n",
            "   8.30982774e-02  1.38646734e+00 -8.33163261e-01  6.32440627e-01\n",
            "  -2.33921337e+00  3.78373176e-01 -6.80479035e-02 -9.63394463e-01\n",
            "   6.08271807e-02 -1.65543020e+00 -1.12291777e+00  4.61532772e-01\n",
            "  -1.72561145e+00  1.79702771e+00  8.12874138e-01 -2.44618082e+00\n",
            "  -1.32436216e-01  2.19500470e+00 -1.44358709e-01  1.37371790e+00\n",
            "  -3.58988196e-01  2.16693878e+00  6.01907909e-01  4.14064378e-01\n",
            "  -1.60171008e+00  5.80493987e-01  1.30803633e+00 -8.54789495e-01\n",
            "   4.00872499e-01 -1.11660361e+00  5.08825295e-02 -2.18679428e+00\n",
            "   9.21232998e-01 -9.13742840e-01 -1.20610797e+00  1.66610658e+00\n",
            "   1.98372805e+00  7.93678701e-01  1.36101985e+00  7.08594143e-01\n",
            "   1.17138731e+00  3.25286120e-01 -1.53484762e+00  1.46802211e+00\n",
            "   1.25445700e+00  4.63086247e-01  2.02026892e+00  8.00134242e-01\n",
            "  -1.54547155e+00  1.80971611e+00  1.62021828e+00  5.66556938e-02\n",
            "  -2.27340865e+00 -6.25386000e-01 -8.99245143e-01 -1.08289087e+00\n",
            "  -2.27692580e+00  1.98155594e+00  8.54232788e-01 -8.67223203e-01\n",
            "  -2.03462863e+00  2.29342416e-01  1.57697856e+00 -1.31617133e-02\n",
            "  -1.57421219e+00  7.56823838e-01  4.00531769e-01 -6.61412954e-01\n",
            "  -4.07335699e-01 -1.03582013e+00 -7.29187548e-01  3.18488806e-01\n",
            "   8.68276775e-01  1.20351720e+00  6.48290887e-02 -2.45320225e+00\n",
            "  -1.30349112e+00  1.38292044e-01  1.23193216e+00  3.38093328e+00\n",
            "   2.07833022e-01  1.74688745e+00  1.19720364e+00 -1.47268546e+00\n",
            "   2.21376944e+00 -1.83067143e-01  2.86384532e-03  9.85034645e-01\n",
            "  -7.81438172e-01 -8.86834383e-01 -1.50484931e+00  4.91457358e-02\n",
            "   3.15143895e+00  7.69064188e-01 -1.20832956e+00  1.54768860e+00\n",
            "  -3.13402712e-01 -1.07497178e-01 -1.84215695e-01 -1.57040322e+00\n",
            "  -1.08929992e+00 -6.20576560e-01  6.72952652e-01  9.38965008e-02\n",
            "   1.90889728e+00  8.56132030e-01 -2.07826400e+00 -5.45980334e-01\n",
            "   1.17374027e+00 -5.54343998e-01 -1.30100834e+00  3.65070581e-01\n",
            "  -1.68604207e+00  8.23645175e-01 -1.01078701e+00 -2.72609532e-01\n",
            "   5.37159622e-01 -5.29538505e-02 -3.79297912e-01  7.92773843e-01\n",
            "  -7.93012738e-01  4.96198326e-01 -1.51839173e+00  1.18281770e+00]\n",
            " [ 1.13972580e+00  3.24963778e-01 -3.20912808e-01  9.68490481e-01\n",
            "   3.91855001e-01  5.43624572e-02 -1.66683108e-01  1.87546983e-01\n",
            "   3.63831550e-01 -3.23832959e-01  8.53702903e-01  3.02693605e-01\n",
            "  -4.13198382e-01 -9.36784208e-01  1.94860578e-01  1.56869039e-01\n",
            "  -9.85315979e-01 -2.70042449e-01 -1.12494946e+00 -2.36620024e-01\n",
            "  -8.00773263e-01  1.99863291e+00  3.65091622e-01  1.73928750e+00\n",
            "   1.68829769e-01  1.38055909e+00  4.14259076e-01  1.67873406e+00\n",
            "   1.13859445e-01 -1.40315473e-01  9.12878931e-01  2.11265588e+00\n",
            "  -5.49796343e-01  1.79804027e-01 -1.39223385e+00 -5.97697616e-01\n",
            "   6.93850741e-02  8.39032114e-01  5.45573413e-01 -6.78781092e-01\n",
            "  -1.96009421e+00  1.56706762e+00  4.00301069e-01  1.45519543e+00\n",
            "   6.30063474e-01 -1.14810157e+00  4.85022515e-01  3.62212956e-01\n",
            "  -1.47535875e-01 -2.21838251e-01 -5.93516409e-01 -1.16720068e+00\n",
            "   7.27037668e-01 -1.68610260e-01  6.93681598e-01 -6.86591625e-01\n",
            "  -1.13458417e-01 -4.01907712e-01 -9.98737589e-02 -1.08913660e-01\n",
            "   3.61331046e-01  3.91154736e-01  1.93421170e-01  1.40602693e-01\n",
            "   5.84988236e-01 -4.49338973e-01 -1.55242288e+00 -6.91629946e-01\n",
            "   5.04903555e-01 -5.62676311e-01 -1.98158884e+00  1.31995595e+00\n",
            "   8.77326652e-02  1.69437683e+00 -9.28761303e-01  4.30057645e-01\n",
            "  -7.40477800e-01  5.14648497e-01  4.32049036e-01 -2.89192140e-01\n",
            "  -5.73106706e-01  1.82434529e-01 -5.52501440e-01  3.00537735e-01\n",
            "   7.62432933e-01 -2.29406729e-02  3.49881977e-01 -1.18116403e+00\n",
            "   1.49509943e+00 -1.36852217e+00 -7.63328373e-01 -5.36872804e-01\n",
            "  -1.14472985e+00 -9.44092870e-01 -1.98112980e-01 -1.28714964e-01\n",
            "  -5.94789803e-01 -7.69589186e-01 -6.61845744e-01  2.77508348e-01\n",
            "   3.81910086e-01  1.15627205e+00 -1.98793888e-01 -8.09347570e-01\n",
            "   1.29281509e+00  8.21560442e-01 -2.16536131e-02  8.68082523e-01\n",
            "   8.20609868e-01 -1.97190925e-01 -2.45693758e-01  8.28133821e-01\n",
            "   1.06837201e+00 -2.61640996e-01 -4.32953924e-01 -5.79242408e-01\n",
            "  -3.23758237e-02 -8.00917745e-01  5.63750744e-01 -2.05501318e-01\n",
            "   1.13353215e-01  7.20224559e-01  2.06816092e-01 -1.43943202e+00\n",
            "   3.98775995e-01 -1.51692581e+00  2.63979018e-01  1.24459636e+00\n",
            "  -8.23576391e-01 -5.14461100e-01 -4.62178141e-01 -3.47963959e-01\n",
            "   1.02056539e+00 -6.93198740e-01  4.60851789e-01 -3.85057479e-01\n",
            "   1.59655392e-01 -1.99213099e+00  1.05054028e-01 -1.94133118e-01\n",
            "   1.38059950e+00 -1.33045566e+00 -2.81720787e-01 -1.26417756e+00\n",
            "  -3.45864773e-01 -8.41288805e-01 -6.48745179e-01  1.36837816e+00\n",
            "  -3.88148308e-01 -1.29530752e+00 -6.86503351e-01  9.85931873e-01\n",
            "   6.40616715e-01  2.47101635e-01 -7.40665019e-01  2.33980909e-01\n",
            "   3.86704385e-01 -1.32333428e-01 -1.07970619e+00  1.40740708e-01\n",
            "   6.20315015e-01  1.39018282e-01  9.23420668e-01  7.20744371e-01\n",
            "  -9.37303543e-01  9.62735653e-01  1.48520529e-01 -6.58015966e-01\n",
            "  -5.63828290e-01 -6.86819792e-01  9.78249907e-01 -1.60442919e-01\n",
            "  -1.72522753e-01 -5.56019902e-01  1.73520052e+00  9.52583373e-01\n",
            "   4.36500490e-01 -4.20211047e-01 -8.11639667e-01  5.98653816e-02\n",
            "   6.50040627e-01  1.65886986e+00  1.26552832e+00 -1.18400729e+00\n",
            "  -1.00211054e-01 -4.70654488e-01 -1.11896090e-01 -3.06665540e-01\n",
            "  -1.10210884e+00 -1.38565695e+00  8.61915171e-01 -1.80470276e+00\n",
            "  -1.18576193e+00  3.83614063e-01 -2.60549504e-02 -2.74374932e-01\n",
            "  -1.50712657e+00  8.77451718e-01 -7.91659951e-01 -1.46099496e+00\n",
            "  -5.26707351e-01 -2.53418779e+00 -7.11259365e-01 -7.62816787e-01\n",
            "   2.57930189e-01 -7.76124835e-01  1.56490791e+00  6.55879304e-02\n",
            "  -1.60912824e+00 -1.29378557e+00  2.49494776e-01 -4.04606551e-01\n",
            "  -6.94389269e-02  2.82749146e-01 -4.13494587e-01  9.43722546e-01\n",
            "   1.34427214e+00  2.81288594e-01  2.01002002e-01 -2.02778205e-01\n",
            "  -9.31790322e-02 -2.29351699e-01  1.05467033e+00 -6.69719338e-01\n",
            "  -4.40617353e-01  5.75391911e-02  1.26168787e+00  1.14420407e-01\n",
            "  -1.84574521e+00  2.59737700e-01  1.01447904e+00  6.35446489e-01\n",
            "  -9.10969794e-01  1.82769084e+00 -4.94325638e-01  5.62134311e-02\n",
            "   2.67764509e-01  2.15293482e-01  3.30013663e-01 -1.74282992e+00\n",
            "  -1.84980738e+00  9.40653086e-01 -8.87250364e-01  1.17199767e+00\n",
            "  -1.62626848e-01  1.04656689e-01 -1.72086489e+00 -1.62209880e+00\n",
            "  -4.24058288e-01  2.68830866e-01  8.74792188e-02  2.44305298e-01\n",
            "  -4.22980011e-01  5.62168717e-01  9.64844376e-02  4.47764933e-01\n",
            "  -7.90903151e-01  3.20507288e-01  4.58923839e-02 -4.42712754e-01\n",
            "  -2.32420802e-01  6.94750011e-01 -7.99537778e-01 -1.13602197e+00\n",
            "  -8.78737271e-01  3.44004363e-01 -5.11293530e-01  6.62350282e-02\n",
            "  -6.21884763e-01  7.89573371e-01 -2.06271720e+00 -1.14838505e+00\n",
            "   9.92093146e-01  5.85579813e-01 -7.56378114e-01 -5.12825966e-01\n",
            "   6.33030474e-01 -2.91172147e-01  2.99131393e-01  4.84286129e-01\n",
            "   6.57766521e-01  2.63389516e+00 -8.54343325e-02  1.16534650e+00\n",
            "   9.51205075e-01 -1.24903649e-01 -1.15490422e-01  2.87700176e-01\n",
            "  -8.49470645e-02  1.22202361e+00 -2.02961564e+00  6.75821245e-01\n",
            "  -1.45089877e+00  1.43894777e-01 -1.67010379e+00 -3.10055912e-01\n",
            "   1.77129030e-01 -8.72746527e-01  2.44901493e-01  9.43442062e-02]]\n"
          ],
          "name": "stdout"
        }
      ]
    },
    {
      "cell_type": "code",
      "metadata": {
        "id": "7Z6pIA1f6ptd",
        "colab_type": "code",
        "colab": {}
      },
      "source": [
        "del sentences_train\n",
        "del sentences_train_processed\n",
        "del sentences_test\n",
        "del df\n",
        "del ds\n",
        "del document_train"
      ],
      "execution_count": null,
      "outputs": []
    },
    {
      "cell_type": "code",
      "metadata": {
        "id": "Pcy51DICSKkO",
        "colab_type": "code",
        "colab": {
          "base_uri": "https://localhost:8080/",
          "height": 442
        },
        "outputId": "e74c7bd9-eb49-438f-d08e-1044e0f39940"
      },
      "source": [
        "from tensorflow.keras.callbacks import EarlyStopping,ModelCheckpoint\n",
        "\n",
        "from tensorflow.keras.models import Sequential\n",
        "from tensorflow.keras.layers import Dense,Dropout\n",
        "from tensorflow.keras.layers import Flatten\n",
        "from tensorflow.keras.layers import Embedding,GlobalMaxPooling1D\n",
        "from tensorflow.keras.layers import Conv1D\n",
        "from tensorflow.keras.layers import MaxPooling1D\n",
        "\n",
        "model = Sequential()\n",
        "model.add(embedding_layer)\n",
        "#model.add(Conv1D(filters=200 ,kernel_size=2, activation='relu'))\n",
        "#model.add(MaxPooling1D(pool_size=2))\n",
        "model.add(Conv1D(filters=200, kernel_size=5, activation='relu',padding='valid'))\n",
        "model.add(GlobalMaxPooling1D())\n",
        "#model.add(Flatten())\n",
        "model.add(Dense(256, activation='relu'))\n",
        "model.add(Dropout(.2))\n",
        "model.add(Dense(50, activation='relu'))\n",
        "model.add(Dropout(.1))\n",
        "model.add(Dense(1, activation='sigmoid'))\n",
        "print(model.summary())\n",
        "\n"
      ],
      "execution_count": null,
      "outputs": [
        {
          "output_type": "stream",
          "text": [
            "Model: \"sequential\"\n",
            "_________________________________________________________________\n",
            "Layer (type)                 Output Shape              Param #   \n",
            "=================================================================\n",
            "embedding (Embedding)        (None, 95, 300)           559361100 \n",
            "_________________________________________________________________\n",
            "conv1d (Conv1D)              (None, 91, 200)           300200    \n",
            "_________________________________________________________________\n",
            "global_max_pooling1d (Global (None, 200)               0         \n",
            "_________________________________________________________________\n",
            "dense (Dense)                (None, 256)               51456     \n",
            "_________________________________________________________________\n",
            "dropout (Dropout)            (None, 256)               0         \n",
            "_________________________________________________________________\n",
            "dense_1 (Dense)              (None, 50)                12850     \n",
            "_________________________________________________________________\n",
            "dropout_1 (Dropout)          (None, 50)                0         \n",
            "_________________________________________________________________\n",
            "dense_2 (Dense)              (None, 1)                 51        \n",
            "=================================================================\n",
            "Total params: 559,725,657\n",
            "Trainable params: 364,557\n",
            "Non-trainable params: 559,361,100\n",
            "_________________________________________________________________\n",
            "None\n"
          ],
          "name": "stdout"
        }
      ]
    },
    {
      "cell_type": "code",
      "metadata": {
        "id": "jObWVopYBpBs",
        "colab_type": "code",
        "colab": {
          "base_uri": "https://localhost:8080/",
          "height": 819
        },
        "outputId": "e4da0d08-9a56-43e4-9e20-2032dfd4a78c"
      },
      "source": [
        "model.compile(loss='binary_crossentropy', optimizer='sgd', metrics=['accuracy'])\n",
        "cp = ModelCheckpoint(filepath='content\\sentiment_weights',save_weights_only=True,save_best_only=True,verbose=1)\n",
        "es = EarlyStopping(monitor='val_loss', mode='min', verbose=1,patience=5)\n",
        "\n",
        "history=model.fit(X_train, y_train,validation_split=.25 ,epochs=100,batch_size=32, verbose=1,callbacks=[es,cp])"
      ],
      "execution_count": null,
      "outputs": [
        {
          "output_type": "stream",
          "text": [
            "Epoch 1/100\n",
            "63282/63282 [==============================] - ETA: 0s - loss: 0.2468 - accuracy: 0.8993\n",
            "Epoch 00001: val_loss improved from inf to 0.21711, saving model to content\\sentiment_weights\n",
            "63282/63282 [==============================] - 329s 5ms/step - loss: 0.2468 - accuracy: 0.8993 - val_loss: 0.2171 - val_accuracy: 0.9125\n",
            "Epoch 2/100\n",
            "63270/63282 [============================>.] - ETA: 0s - loss: 0.2070 - accuracy: 0.9180\n",
            "Epoch 00002: val_loss improved from 0.21711 to 0.20571, saving model to content\\sentiment_weights\n",
            "63282/63282 [==============================] - 328s 5ms/step - loss: 0.2071 - accuracy: 0.9180 - val_loss: 0.2057 - val_accuracy: 0.9177\n",
            "Epoch 3/100\n",
            "63272/63282 [============================>.] - ETA: 0s - loss: 0.1904 - accuracy: 0.9254\n",
            "Epoch 00003: val_loss improved from 0.20571 to 0.20346, saving model to content\\sentiment_weights\n",
            "63282/63282 [==============================] - 327s 5ms/step - loss: 0.1904 - accuracy: 0.9254 - val_loss: 0.2035 - val_accuracy: 0.9188\n",
            "Epoch 4/100\n",
            "63281/63282 [============================>.] - ETA: 0s - loss: 0.1787 - accuracy: 0.9308\n",
            "Epoch 00004: val_loss did not improve from 0.20346\n",
            "63282/63282 [==============================] - 301s 5ms/step - loss: 0.1787 - accuracy: 0.9308 - val_loss: 0.2103 - val_accuracy: 0.9162\n",
            "Epoch 5/100\n",
            "63274/63282 [============================>.] - ETA: 0s - loss: 0.1694 - accuracy: 0.9348\n",
            "Epoch 00005: val_loss improved from 0.20346 to 0.20195, saving model to content\\sentiment_weights\n",
            "63282/63282 [==============================] - 328s 5ms/step - loss: 0.1694 - accuracy: 0.9349 - val_loss: 0.2020 - val_accuracy: 0.9213\n",
            "Epoch 6/100\n",
            "63275/63282 [============================>.] - ETA: 0s - loss: 0.1614 - accuracy: 0.9386\n",
            "Epoch 00006: val_loss did not improve from 0.20195\n",
            "63282/63282 [==============================] - 300s 5ms/step - loss: 0.1614 - accuracy: 0.9386 - val_loss: 0.2081 - val_accuracy: 0.9176\n",
            "Epoch 7/100\n",
            "63282/63282 [==============================] - ETA: 0s - loss: 0.1541 - accuracy: 0.9418\n",
            "Epoch 00007: val_loss improved from 0.20195 to 0.20027, saving model to content\\sentiment_weights\n",
            "63282/63282 [==============================] - 326s 5ms/step - loss: 0.1541 - accuracy: 0.9418 - val_loss: 0.2003 - val_accuracy: 0.9214\n",
            "Epoch 8/100\n",
            "63269/63282 [============================>.] - ETA: 0s - loss: 0.1480 - accuracy: 0.9444\n",
            "Epoch 00008: val_loss did not improve from 0.20027\n",
            "63282/63282 [==============================] - 303s 5ms/step - loss: 0.1480 - accuracy: 0.9444 - val_loss: 0.2028 - val_accuracy: 0.9208\n",
            "Epoch 9/100\n",
            "63272/63282 [============================>.] - ETA: 0s - loss: 0.1421 - accuracy: 0.9470\n",
            "Epoch 00009: val_loss did not improve from 0.20027\n",
            "63282/63282 [==============================] - 302s 5ms/step - loss: 0.1421 - accuracy: 0.9470 - val_loss: 0.2046 - val_accuracy: 0.9197\n",
            "Epoch 10/100\n",
            "63276/63282 [============================>.] - ETA: 0s - loss: 0.1368 - accuracy: 0.9493\n",
            "Epoch 00010: val_loss did not improve from 0.20027\n",
            "63282/63282 [==============================] - 301s 5ms/step - loss: 0.1368 - accuracy: 0.9493 - val_loss: 0.2185 - val_accuracy: 0.9185\n",
            "Epoch 11/100\n",
            "63270/63282 [============================>.] - ETA: 0s - loss: 0.1315 - accuracy: 0.9514\n",
            "Epoch 00011: val_loss did not improve from 0.20027\n",
            "63282/63282 [==============================] - 301s 5ms/step - loss: 0.1315 - accuracy: 0.9514 - val_loss: 0.2204 - val_accuracy: 0.9173\n",
            "Epoch 12/100\n",
            "63278/63282 [============================>.] - ETA: 0s - loss: 0.1271 - accuracy: 0.9535\n",
            "Epoch 00012: val_loss did not improve from 0.20027\n",
            "63282/63282 [==============================] - 301s 5ms/step - loss: 0.1271 - accuracy: 0.9535 - val_loss: 0.2310 - val_accuracy: 0.9186\n",
            "Epoch 00012: early stopping\n"
          ],
          "name": "stdout"
        }
      ]
    },
    {
      "cell_type": "code",
      "metadata": {
        "id": "ft-I5dA5IwQT",
        "colab_type": "code",
        "colab": {
          "base_uri": "https://localhost:8080/",
          "height": 85
        },
        "outputId": "ab7e19aa-084c-4de7-c51e-8b625afeca02"
      },
      "source": [
        "#model is being evaluated for training dataset \n",
        "loss, acc = model.evaluate(X_train, y_train, verbose=1)\n",
        "print('Train Accuracy: %f' % (acc*100))\n",
        "#model is being evaluated for testing datset\n",
        "loss, acc = model.evaluate(X_test, y_test, verbose=1)\n",
        "print('Test Accuracy: %f' % (acc*100))"
      ],
      "execution_count": 34,
      "outputs": [
        {
          "output_type": "stream",
          "text": [
            "84375/84375 [==============================] - 210s 2ms/step - loss: 0.1371 - accuracy: 0.9517\n",
            "Train Accuracy: 95.165706\n",
            "28125/28125 [==============================] - 69s 2ms/step - loss: 0.2312 - accuracy: 0.9185\n",
            "Test Accuracy: 91.850334\n"
          ],
          "name": "stdout"
        }
      ]
    },
    {
      "cell_type": "code",
      "metadata": {
        "id": "SSXOOVbE-cLV",
        "colab_type": "code",
        "colab": {}
      },
      "source": [
        "from sklearn.metrics import confusion_matrix, classification_report\n",
        "#perform prediction on test data and compare it with original sentiment\n",
        "y_pred = model.predict(X_test)\n"
      ],
      "execution_count": 35,
      "outputs": []
    },
    {
      "cell_type": "code",
      "metadata": {
        "id": "SLBSV49P_ULD",
        "colab_type": "code",
        "colab": {
          "base_uri": "https://localhost:8080/",
          "height": 204
        },
        "outputId": "bfcc900f-f560-4df8-f768-7f63fc8ad569"
      },
      "source": [
        "y_p = []\n",
        "for p in y_pred:\n",
        "  if p>0.5:\n",
        "    y_p.append(1)\n",
        "  else:\n",
        "    y_p.append(0)\n",
        "print(confusion_matrix(y_p,y_test))\n",
        "print(classification_report(y_p,y_test))"
      ],
      "execution_count": 36,
      "outputs": [
        {
          "output_type": "stream",
          "text": [
            "[[417015  40259]\n",
            " [ 33088 409638]]\n",
            "              precision    recall  f1-score   support\n",
            "\n",
            "           0       0.93      0.91      0.92    457274\n",
            "           1       0.91      0.93      0.92    442726\n",
            "\n",
            "    accuracy                           0.92    900000\n",
            "   macro avg       0.92      0.92      0.92    900000\n",
            "weighted avg       0.92      0.92      0.92    900000\n",
            "\n"
          ],
          "name": "stdout"
        }
      ]
    },
    {
      "cell_type": "code",
      "metadata": {
        "id": "O185gtK-AgCY",
        "colab_type": "code",
        "colab": {
          "base_uri": "https://localhost:8080/",
          "height": 295
        },
        "outputId": "0ac1536b-daf0-4e28-f2b0-1b0f3d350bf8"
      },
      "source": [
        "import matplotlib.pyplot as plt\n",
        "\n",
        "# summarize history for loss\n",
        "plt.plot(history.history['loss'])\n",
        "plt.plot(history.history['val_loss'])\n",
        "plt.title('model loss')\n",
        "plt.ylabel('loss')\n",
        "plt.xlabel('epoch')\n",
        "plt.legend(['train', 'test'], loc='upper left')\n",
        "plt.show()"
      ],
      "execution_count": 37,
      "outputs": [
        {
          "output_type": "display_data",
          "data": {
            "image/png": "[encoded data removed]",
            "text/plain": [
              "<Figure size 432x288 with 1 Axes>"
            ]
          },
          "metadata": {
            "tags": [],
            "needs_background": "light"
          }
        }
      ]
    },
    {
      "cell_type": "code",
      "metadata": {
        "id": "Rz3t_0zxRlz2",
        "colab_type": "code",
        "colab": {
          "base_uri": "https://localhost:8080/",
          "height": 68
        },
        "outputId": "11bc7209-6a42-4a2a-e9f5-11b716d213cd"
      },
      "source": [
        "a=['good best excellent ','bad worse worst','dog good great bad ']\n",
        "encoded_a = tokenizer.texts_to_sequences(a)\n",
        "#max_length = int(sum([len(s.split()) for s in document_train])/len(document_train))\n",
        "a_test = pad_sequences(encoded_a, maxlen=int(median_len), padding='post')\n",
        "print(model.predict(a_test))"
      ],
      "execution_count": 38,
      "outputs": [
        {
          "output_type": "stream",
          "text": [
            "[[9.9905187e-01]\n",
            " [5.7470760e-07]\n",
            " [8.5974425e-01]]\n"
          ],
          "name": "stdout"
        }
      ]
    },
    {
      "cell_type": "code",
      "metadata": {
        "id": "BT9xYrzV9Tf0",
        "colab_type": "code",
        "colab": {
          "base_uri": "https://localhost:8080/",
          "height": 136
        },
        "outputId": "cf7ab235-dcca-4378-e840-20d3d3173ff8"
      },
      "source": [
        "#a=['good best excellent ','bad worse worst','dog good great bad ']\n",
        "a=int(input(\"Enter the number of reviews:\"))\n",
        "s=[]\n",
        "for i in range(a):\n",
        "  s.append(input(\"Enter review->:\"))\n",
        "encoded_s = tokenizer.texts_to_sequences(s)\n",
        "#max_length = int(sum([len(s.split()) for s in document_train])/len(document_train))\n",
        "s_test = pad_sequences(encoded_s, maxlen=int(median_len), padding='post')\n",
        "for i in range(a):\n",
        "  if model.predict(s_test[i:i+1])>0.5:\n",
        "    print(\"Product recommended!\")\n",
        "  else:\n",
        "    print(\"Product is not recommended\")"
      ],
      "execution_count": 39,
      "outputs": [
        {
          "output_type": "stream",
          "text": [
            "Enter the number of reviews:3\n",
            "Enter review->:The food was good not bad at all\n",
            "Enter review->:The food was bad, not good at all\n",
            "Enter review->:Just buy it\n",
            "Product recommended!\n",
            "Product is not recommended\n",
            "Product is not recommended\n"
          ],
          "name": "stdout"
        }
      ]
    },
    {
      "cell_type": "code",
      "metadata": {
        "id": "4IqHbzrJzSyq",
        "colab_type": "code",
        "colab": {}
      },
      "source": [
        ""
      ],
      "execution_count": null,
      "outputs": []
    }
  ]
}